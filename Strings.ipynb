{
 "cells": [
  {
   "cell_type": "code",
   "execution_count": 5,
   "id": "197670a7-77f9-4b75-8fcf-8101df9f333f",
   "metadata": {},
   "outputs": [],
   "source": [
    "mp=\"Today is a Great Day\""
   ]
  },
  {
   "cell_type": "code",
   "execution_count": null,
   "id": "b65a2f1c-5e98-48df-b3ee-b83c22965ea9",
   "metadata": {},
   "outputs": [],
   "source": [
    "#Assign string"
   ]
  },
  {
   "cell_type": "code",
   "execution_count": 7,
   "id": "51eacd3c-4805-4374-9c4a-2790c2a895a8",
   "metadata": {},
   "outputs": [
    {
     "name": "stdout",
     "output_type": "stream",
     "text": [
      "Today is a Great Day\n"
     ]
    }
   ],
   "source": [
    "print(mp)"
   ]
  },
  {
   "cell_type": "code",
   "execution_count": null,
   "id": "7da16af3-6ecf-4c11-9441-16db31f9504e",
   "metadata": {},
   "outputs": [],
   "source": [
    "#make all lower"
   ]
  },
  {
   "cell_type": "code",
   "execution_count": 9,
   "id": "92cbc8ee-fb83-4fc6-a2d5-e00a4c1f0dcf",
   "metadata": {},
   "outputs": [
    {
     "data": {
      "text/plain": [
       "'today is a great day'"
      ]
     },
     "execution_count": 9,
     "metadata": {},
     "output_type": "execute_result"
    }
   ],
   "source": [
    "mp.lower()"
   ]
  },
  {
   "cell_type": "code",
   "execution_count": null,
   "id": "3f57f7ad-26cd-4a56-b0b4-6905e3a511ff",
   "metadata": {},
   "outputs": [],
   "source": [
    "#make all Upper case"
   ]
  },
  {
   "cell_type": "code",
   "execution_count": 12,
   "id": "9c790981-a5a9-417e-b272-fdfd164d1498",
   "metadata": {},
   "outputs": [
    {
     "data": {
      "text/plain": [
       "'TODAY IS A GREAT DAY'"
      ]
     },
     "execution_count": 12,
     "metadata": {},
     "output_type": "execute_result"
    }
   ],
   "source": [
    "mp.upper()"
   ]
  },
  {
   "cell_type": "code",
   "execution_count": null,
   "id": "457fd970-bdd3-4b9a-9ae4-abf1868b6427",
   "metadata": {},
   "outputs": [],
   "source": [
    "#Take back to original "
   ]
  },
  {
   "cell_type": "code",
   "execution_count": 14,
   "id": "b567dd83-dab9-4aa2-9d97-5984221286a8",
   "metadata": {},
   "outputs": [
    {
     "data": {
      "text/plain": [
       "'Today is a Great Day'"
      ]
     },
     "execution_count": 14,
     "metadata": {},
     "output_type": "execute_result"
    }
   ],
   "source": [
    "mp.strip()"
   ]
  },
  {
   "cell_type": "code",
   "execution_count": null,
   "id": "7dab3ece-c02e-460a-986f-310358770dad",
   "metadata": {},
   "outputs": [],
   "source": [
    "#Where X is the starting letter of string"
   ]
  },
  {
   "cell_type": "code",
   "execution_count": 16,
   "id": "4918875d-a9bf-443c-b809-f190d9d0837f",
   "metadata": {},
   "outputs": [
    {
     "data": {
      "text/plain": [
       "False"
      ]
     },
     "execution_count": 16,
     "metadata": {},
     "output_type": "execute_result"
    }
   ],
   "source": [
    "mp.startswith(\"X\")"
   ]
  },
  {
   "cell_type": "code",
   "execution_count": null,
   "id": "1cea71a1-9690-445a-868e-3314e0d90f12",
   "metadata": {},
   "outputs": [],
   "source": [
    "#find another character in the string"
   ]
  },
  {
   "cell_type": "code",
   "execution_count": 18,
   "id": "fe40b791-ccad-4729-8a69-33b7953cef77",
   "metadata": {},
   "outputs": [
    {
     "data": {
      "text/plain": [
       "-1"
      ]
     },
     "execution_count": 18,
     "metadata": {},
     "output_type": "execute_result"
    }
   ],
   "source": [
    "mp.find('Z')"
   ]
  },
  {
   "cell_type": "code",
   "execution_count": null,
   "id": "bcd5d932-2f0e-4b04-84dd-782d39978587",
   "metadata": {},
   "outputs": [],
   "source": []
  },
  {
   "cell_type": "code",
   "execution_count": null,
   "id": "ed0983fb-e76a-4c03-b7da-261c6e023407",
   "metadata": {},
   "outputs": [],
   "source": []
  }
 ],
 "metadata": {
  "kernelspec": {
   "display_name": "anaconda-2022.05-py39",
   "language": "python",
   "name": "conda-env-anaconda-2022.05-py39-py"
  },
  "language_info": {
   "codemirror_mode": {
    "name": "ipython",
    "version": 3
   },
   "file_extension": ".py",
   "mimetype": "text/x-python",
   "name": "python",
   "nbconvert_exporter": "python",
   "pygments_lexer": "ipython3",
   "version": "3.9.12"
  }
 },
 "nbformat": 4,
 "nbformat_minor": 5
}
